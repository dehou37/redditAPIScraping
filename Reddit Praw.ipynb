{
 "cells": [
  {
   "cell_type": "markdown",
   "metadata": {},
   "source": [
    "Lab 2 (Part 1) - Reddit API\n",
    "\n",
    "In this lab, you will configure this Python script to use your own authentication credentials.\n",
    "Next, you will attempt to crawl your own post by using the PRAW, a Python Reddit API Wrapper.\n",
    "\n",
    "Prior to using this script, go to your own Reddit account and join a few communities.\n",
    "\n",
    "Ref: https://praw.readthedocs.io/en/stable/index.html"
   ]
  },
  {
   "cell_type": "markdown",
   "metadata": {},
   "source": [
    "# Uncomment and Run this Code if praw is not installed"
   ]
  },
  {
   "cell_type": "code",
   "execution_count": null,
   "metadata": {},
   "outputs": [],
   "source": [
    "#!pip install praw"
   ]
  },
  {
   "cell_type": "markdown",
   "metadata": {},
   "source": [
    "# Include reddit API credentials"
   ]
  },
  {
   "cell_type": "code",
   "execution_count": 1,
   "metadata": {},
   "outputs": [
    {
     "name": "stderr",
     "output_type": "stream",
     "text": [
      "Version 7.7.0 of praw is outdated. Version 7.7.1 was released Tuesday July 11, 2023.\n"
     ]
    }
   ],
   "source": [
    "import praw\n",
    "import pandas as pd \n",
    "from datetime import datetime\n",
    "# Please change the values accordingly\n",
    "\n",
    "reddit = praw.Reddit(\n",
    "    client_id = \"_Rinm34Dm91zASDQKuGymA\", # Slide 6 step 1\n",
    "    client_secret = \"Vp6EpXpV_jxzT_ogt9HzisNdjg1r7A\", # Slide 6 step 2\n",
    "    username = \"User4532\", # Slide 6 step 3\n",
    "    password = \"notrealpw\",  # Change password accordingly\n",
    "    user_agent = \"APP_NAME\" # Slide 6 step 4\n",
    ")"
   ]
  },
  {
   "cell_type": "markdown",
   "metadata": {},
   "source": [
    "# Reddit scraping"
   ]
  },
  {
   "cell_type": "code",
   "execution_count": 2,
   "metadata": {},
   "outputs": [],
   "source": [
    "#Scraping redditor's comments\n",
    "\n",
    "# Specify the target username\n",
    "target_username = 'mistaknomore'\n",
    "\n",
    "comments_list= []\n",
    "posts_list=[]\n",
    "\n",
    "# Get the Redditor object for the target user\n",
    "target_user = reddit.redditor(target_username)\n",
    "\n",
    "# Iterate through the comments made by the user\n",
    "for comment in target_user.comments.new(limit=None):   \n",
    "    comments_data = {\n",
    "        'Comments' : comment.body,\n",
    "        'Date': datetime.utcfromtimestamp(comment.created_utc).strftime('%Y-%m-%d %H:%M:%S')\n",
    "    }\n",
    "    comments_list.append(comments_data)\n",
    "    \n",
    "# Iterate through the post title & description made by the user\n",
    "for submission in target_user.submissions.new(limit=None):\n",
    "    post_data = {\n",
    "        'Post Title': submission.title,\n",
    "        'Description': submission.selftext,\n",
    "        'Title Length': len(submission.title.split()),\n",
    "        'Description Length': len(submission.selftext.split()),\n",
    "        'Date': datetime.utcfromtimestamp(submission.created_utc).strftime('%Y-%m-%d %H:%M:%S')\n",
    "    }\n",
    "    posts_list.append(post_data)\n",
    "    \n",
    "\n",
    "#Uncomment prints accordingly to see output\n",
    "posts_df = pd.DataFrame(posts_list)\n",
    "#print(posts_df)\n",
    "comments_df = pd.DataFrame(comments_list)\n",
    "#print(comments_df)\n"
   ]
  },
  {
   "cell_type": "code",
   "execution_count": 3,
   "metadata": {},
   "outputs": [],
   "source": [
    "csv_file_path = 'posts.csv'\n",
    "posts_df.to_csv(csv_file_path, index=False)\n",
    "\n",
    "#Uncomment for comments csv file\n",
    "#csv_file_path = 'comments.csv'\n",
    "#comments_df.to_csv(csv_file_path, index=False)"
   ]
  },
  {
   "cell_type": "code",
   "execution_count": null,
   "metadata": {},
   "outputs": [],
   "source": []
  }
 ],
 "metadata": {
  "kernelspec": {
   "display_name": "Python 3",
   "language": "python",
   "name": "python3"
  },
  "language_info": {
   "codemirror_mode": {
    "name": "ipython",
    "version": 3
   },
   "file_extension": ".py",
   "mimetype": "text/x-python",
   "name": "python",
   "nbconvert_exporter": "python",
   "pygments_lexer": "ipython3",
   "version": "3.8.8"
  }
 },
 "nbformat": 4,
 "nbformat_minor": 2
}
